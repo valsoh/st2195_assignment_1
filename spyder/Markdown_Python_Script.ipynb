{
 "cells": [
  {
   "cell_type": "markdown",
   "id": "235d5316",
   "metadata": {},
   "source": [
    "# _Python codes that prints integers between 1 to 10_ "
   ]
  },
  {
   "cell_type": "markdown",
   "id": "9eaeb64b",
   "metadata": {},
   "source": [
    "```pythoncodes\n",
    "integers = [\"1\" , \"2\" , \"3\", \"4\" , \"5\" , \"6\" , \"7\" , \"8\" , \"9\" , \"10\"]\n",
    "for k in integers:\n",
    "    print(k)\n",
    "```"
   ]
  },
  {
   "cell_type": "code",
   "execution_count": 3,
   "id": "97bf68ee",
   "metadata": {},
   "outputs": [
    {
     "name": "stdout",
     "output_type": "stream",
     "text": [
      "1\n",
      "2\n",
      "3\n",
      "4\n",
      "5\n",
      "6\n",
      "7\n",
      "8\n",
      "9\n",
      "10\n"
     ]
    }
   ],
   "source": [
    "integers = [\"1\" , \"2\" , \"3\", \"4\" , \"5\" , \"6\" , \"7\" , \"8\" , \"9\" , \"10\"]\n",
    "for k in integers:\n",
    "    print(k)"
   ]
  },
  {
   "cell_type": "code",
   "execution_count": null,
   "id": "d09b6f7d",
   "metadata": {},
   "outputs": [],
   "source": []
  }
 ],
 "metadata": {
  "kernelspec": {
   "display_name": "Python 3",
   "language": "python",
   "name": "python3"
  },
  "language_info": {
   "codemirror_mode": {
    "name": "ipython",
    "version": 3
   },
   "file_extension": ".py",
   "mimetype": "text/x-python",
   "name": "python",
   "nbconvert_exporter": "python",
   "pygments_lexer": "ipython3",
   "version": "3.8.8"
  }
 },
 "nbformat": 4,
 "nbformat_minor": 5
}
